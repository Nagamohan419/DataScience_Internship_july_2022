{
 "cells": [
  {
   "cell_type": "markdown",
   "metadata": {},
   "source": [
    "https://www.hackerrank.com/challenges/s10-least-square-regression-line"
   ]
  },
  {
   "cell_type": "code",
   "execution_count": 9,
   "metadata": {},
   "outputs": [
    {
     "name": "stdout",
     "output_type": "stream",
     "text": [
      "78.288\n"
     ]
    }
   ],
   "source": [
    "import statistics as st\n",
    "#X = [int(num) for num in input().split(\" \", 4)]\n",
    "#Y = [int(num) for num in input().split(\" \", 4)]\n",
    "\n",
    "X = [95, 85, 80, 70, 60]\n",
    "Y= [85, 95, 70, 65, 70]\n",
    "mean_x=st.mean(X)\n",
    "mean_y = st.mean(Y)\n",
    "std_x = st.pstdev(X)\n",
    "std_y = st.pstdev(Y)\n",
    "corr_coeff_num=0\n",
    "for i in range(5):\n",
    "    corr_coeff_num=corr_coeff_num+((X[i]-mean_x)*(Y[i]-mean_y))\n",
    "\n",
    "corr_coeff=(corr_coeff_num)/((len(X))*std_x*std_y)\n",
    "\n",
    "b=corr_coeff*(std_y/std_x)\n",
    "\n",
    "#x_square = sum([X[i] ** 2 for i in range(len(X))])\n",
    "#XY = sum([X[i]*Y[i] for i in range(len(X))])\n",
    "\n",
    "#b = (len(X) * XY - sum(X) * sum(Y)) / (len(X) * x_square - (sum(X) ** 2))\n",
    "a = mean_y - b * mean_x\n",
    "\n",
    "a=mean_y-(b*mean_x)\n",
    "\n",
    "print(round((a+(b*80)),3))"
   ]
  },
  {
   "cell_type": "code",
   "execution_count": null,
   "metadata": {},
   "outputs": [],
   "source": []
  }
 ],
 "metadata": {
  "kernelspec": {
   "display_name": "Python 3",
   "language": "python",
   "name": "python3"
  },
  "language_info": {
   "codemirror_mode": {
    "name": "ipython",
    "version": 3
   },
   "file_extension": ".py",
   "mimetype": "text/x-python",
   "name": "python",
   "nbconvert_exporter": "python",
   "pygments_lexer": "ipython3",
   "version": "3.7.6"
  }
 },
 "nbformat": 4,
 "nbformat_minor": 4
}
