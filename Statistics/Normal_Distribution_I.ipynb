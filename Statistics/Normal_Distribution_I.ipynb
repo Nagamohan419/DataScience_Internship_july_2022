{
 "cells": [
  {
   "cell_type": "markdown",
   "metadata": {},
   "source": [
    "https://www.hackerrank.com/challenges/s10-normal-distribution-1"
   ]
  },
  {
   "cell_type": "code",
   "execution_count": 30,
   "metadata": {},
   "outputs": [],
   "source": [
    "from math import *"
   ]
  },
  {
   "cell_type": "code",
   "execution_count": 31,
   "metadata": {},
   "outputs": [
    {
     "name": "stdout",
     "output_type": "stream",
     "text": [
      "20 2\n",
      "19.5\n",
      "20 22\n",
      "0.401\n",
      "0.341\n"
     ]
    }
   ],
   "source": [
    "def normaldist(u,s,val):\n",
    "    \n",
    "    #'Cumulative distribution function for the standard normal distribution'\n",
    "    #return (1.0 + math.erf(x1-u / (s*sqrt(2.0))) / 2.0\n",
    "    return 0.5 * (1 + erf((val - u) / (s * (2 ** 0.5))))\n",
    "\n",
    "\n",
    "\n",
    "values = list(map(float, input().split()))\n",
    "u=values[0]\n",
    "s=values[1]\n",
    "x1=float(input())\n",
    "y=list(map(float, input().split()))\n",
    "y1=y[0]\n",
    "y2=y[1]\n",
    "print(round(normaldist(u,s,x1),3))\n",
    "print(round(normaldist(u,s,y[1])-normaldist(u,s,y[0]),3))"
   ]
  },
  {
   "cell_type": "code",
   "execution_count": null,
   "metadata": {},
   "outputs": [],
   "source": []
  }
 ],
 "metadata": {
  "kernelspec": {
   "display_name": "Python 3",
   "language": "python",
   "name": "python3"
  },
  "language_info": {
   "codemirror_mode": {
    "name": "ipython",
    "version": 3
   },
   "file_extension": ".py",
   "mimetype": "text/x-python",
   "name": "python",
   "nbconvert_exporter": "python",
   "pygments_lexer": "ipython3",
   "version": "3.7.6"
  }
 },
 "nbformat": 4,
 "nbformat_minor": 4
}
