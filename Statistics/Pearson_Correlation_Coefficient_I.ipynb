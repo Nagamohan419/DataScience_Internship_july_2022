{
 "cells": [
  {
   "cell_type": "markdown",
   "metadata": {},
   "source": [
    "https://www.hackerrank.com/challenges/s10-pearson-correlation-coefficient"
   ]
  },
  {
   "cell_type": "code",
   "execution_count": 5,
   "metadata": {},
   "outputs": [
    {
     "name": "stdout",
     "output_type": "stream",
     "text": [
      "10\n",
      "10 9.8 8 7.8 7.7 7 6 5 4 2\n",
      "200 44 32 24 22 17 15 12 8 4\n",
      "0.612\n"
     ]
    }
   ],
   "source": [
    "# import libraries\n",
    "import statistics as st\n",
    "n=int(input())\n",
    "X = [float(num) for num in input().split(\" \", n-1)]\n",
    "Y = [float(num) for num in input().split(\" \", n-1)]\n",
    "\n",
    "mean_x=st.mean(X)\n",
    "mean_y = st.mean(Y)\n",
    "std_x = st.pstdev(X)\n",
    "std_y = st.pstdev(Y)\n",
    "corr_coeff_num=0\n",
    "for i in range(n):\n",
    "    corr_coeff_num=corr_coeff_num+((X[i]-mean_x)*(Y[i]-mean_y))\n",
    "\n",
    "corr_coeff=(corr_coeff_num)/(n*std_x*std_y)\n",
    "\n",
    "print(round(corr_coeff,3))"
   ]
  },
  {
   "cell_type": "code",
   "execution_count": null,
   "metadata": {},
   "outputs": [],
   "source": []
  }
 ],
 "metadata": {
  "kernelspec": {
   "display_name": "Python 3",
   "language": "python",
   "name": "python3"
  },
  "language_info": {
   "codemirror_mode": {
    "name": "ipython",
    "version": 3
   },
   "file_extension": ".py",
   "mimetype": "text/x-python",
   "name": "python",
   "nbconvert_exporter": "python",
   "pygments_lexer": "ipython3",
   "version": "3.7.6"
  }
 },
 "nbformat": 4,
 "nbformat_minor": 4
}
