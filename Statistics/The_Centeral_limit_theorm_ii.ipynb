{
 "cells": [
  {
   "cell_type": "markdown",
   "metadata": {},
   "source": [
    "https://www.hackerrank.com/challenges/s10-the-central-limit-theorem-2"
   ]
  },
  {
   "cell_type": "code",
   "execution_count": 1,
   "metadata": {},
   "outputs": [],
   "source": [
    "from math import *"
   ]
  },
  {
   "cell_type": "code",
   "execution_count": 3,
   "metadata": {},
   "outputs": [
    {
     "name": "stdout",
     "output_type": "stream",
     "text": [
      "250\n",
      "100\n",
      "2.4\n",
      "2.0\n",
      "0.6915\n"
     ]
    }
   ],
   "source": [
    "def clf(u,s,val):\n",
    "    \n",
    "    #'Cumulative distribution function for the standard normal distribution'\n",
    "    #return (1.0 + math.erf(x1-u / (s*sqrt(2.0))) / 2.0\n",
    "    return 0.5 * (1 + erf((val - u) / (s * (2 ** 0.5))))\n",
    "\n",
    "\n",
    "\n",
    "max_value = float(input())\n",
    "n=int(input())\n",
    "u1=float(input())\n",
    "s1=float(input())\n",
    "u=n*u1\n",
    "s=s1*sqrt(n)\n",
    "print(round(clf(u,s,max_value),4))"
   ]
  },
  {
   "cell_type": "code",
   "execution_count": null,
   "metadata": {},
   "outputs": [],
   "source": []
  }
 ],
 "metadata": {
  "kernelspec": {
   "display_name": "Python 3",
   "language": "python",
   "name": "python3"
  },
  "language_info": {
   "codemirror_mode": {
    "name": "ipython",
    "version": 3
   },
   "file_extension": ".py",
   "mimetype": "text/x-python",
   "name": "python",
   "nbconvert_exporter": "python",
   "pygments_lexer": "ipython3",
   "version": "3.7.6"
  }
 },
 "nbformat": 4,
 "nbformat_minor": 4
}
